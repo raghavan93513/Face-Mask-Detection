{
  "cells": [
    {
      "attachments": {},
      "cell_type": "markdown",
      "metadata": {},
      "source": [
        "Extracting file from zipfile"
      ]
    },
    {
      "cell_type": "code",
      "execution_count": 1,
      "metadata": {},
      "outputs": [
        {
          "name": "stdout",
          "output_type": "stream",
          "text": [
            "Folder extraction completed.\n"
          ]
        }
      ],
      "source": [
        "import zipfile\n",
        "\n",
        "#  path to the ZIP file\n",
        "zip_file_path = \"C:/Users/ragha/Desktop/Projects/Face-mask-detection/mask_images_ready.zip\"\n",
        "destination_folder = \"C:/Users/ragha/Desktop/Projects/Face-mask-detection/\"\n",
        "with zipfile.ZipFile(zip_file_path, 'r') as zip_ref:\n",
        "    zip_ref.extractall(destination_folder)\n",
        "\n",
        "\n",
        "print(\"Folder extraction completed.\")"
      ]
    },
    {
      "attachments": {},
      "cell_type": "markdown",
      "metadata": {},
      "source": [
        "Import necessary packages and libraries\n"
      ]
    },
    {
      "cell_type": "code",
      "execution_count": 2,
      "metadata": {
        "id": "Ir_4iYKUO8jo"
      },
      "outputs": [],
      "source": [
        "import os\n",
        "import cv2 #OpenCV\n",
        "import torch\n",
        "import torch.nn as nn\n",
        "import torch.optim as optim\n",
        "from torch.utils.data import Dataset, DataLoader\n",
        "from torchvision import transforms, models\n",
        "import matplotlib.pyplot as plt"
      ]
    },
    {
      "attachments": {},
      "cell_type": "markdown",
      "metadata": {},
      "source": [
        "Check is CUDA is accessible - To use GPU instead of CPU"
      ]
    },
    {
      "cell_type": "code",
      "execution_count": 3,
      "metadata": {},
      "outputs": [
        {
          "data": {
            "text/plain": [
              "True"
            ]
          },
          "execution_count": 3,
          "metadata": {},
          "output_type": "execute_result"
        }
      ],
      "source": [
        "torch.cuda.is_available()"
      ]
    },
    {
      "attachments": {},
      "cell_type": "markdown",
      "metadata": {},
      "source": [
        "Changing the device from CPU to Cuda"
      ]
    },
    {
      "cell_type": "code",
      "execution_count": 4,
      "metadata": {
        "id": "4q4dlSH6BMNk"
      },
      "outputs": [],
      "source": [
        "device = torch.device(\"cuda\")"
      ]
    },
    {
      "attachments": {},
      "cell_type": "markdown",
      "metadata": {},
      "source": [
        "FaceMaskDataset class for training, validation, and test data"
      ]
    },
    {
      "cell_type": "code",
      "execution_count": 5,
      "metadata": {
        "id": "V9yqjG37BOl9"
      },
      "outputs": [],
      "source": [
        "class FaceMaskDataset(Dataset):\n",
        "    def __init__(self, image_paths, labels, transform=None):\n",
        "        self.image_paths = image_paths\n",
        "        self.labels = labels\n",
        "        self.transform = transform\n",
        "\n",
        "    def __len__(self):\n",
        "        return len(self.image_paths)\n",
        "\n",
        "# OpenCV reads the image from the given image path and converts colour space from BGR to RGB. Then resizes it.\n",
        "\n",
        "    def __getitem__(self, idx):\n",
        "        image_path = self.image_paths[idx]\n",
        "        label = self.labels[idx]\n",
        "        image = cv2.imread(image_path)\n",
        "        image = cv2.cvtColor(image, cv2.COLOR_BGR2RGB)\n",
        "        image = cv2.resize(image, (224, 224))\n",
        "\n",
        "        if self.transform:\n",
        "            image = self.transform(image)\n",
        "\n",
        "        return image, label"
      ]
    },
    {
      "cell_type": "code",
      "execution_count": 6,
      "metadata": {
        "id": "uNMz5n10BX6D"
      },
      "outputs": [],
      "source": [
        "#transform is imported from torchvision\n",
        "#Converts to PIL - Python Imaging Library. IT is the original library that enabled Python to deal with images\n",
        "#Transformation process - Converts to PIL -> Resizing -> Converts to Tensor -> Normalize\n",
        "\n",
        "class FaceMaskDetector:\n",
        "    def __init__(self, model_path):\n",
        "        self.device = torch.device(\"cuda\" if torch.cuda.is_available() else \"cpu\")\n",
        "        self.model = self.load_model(model_path).to(self.device)\n",
        "        self.transform = transforms.Compose([   \n",
        "            transforms.ToPILImage(), \n",
        "            transforms.Resize((224, 224)),\n",
        "            transforms.ToTensor(),\n",
        "            transforms.Normalize(mean=[0.485, 0.456, 0.406], std=[0.229, 0.224, 0.225])\n",
        "        ])\n",
        "\n",
        "# ResNet-50 is a convolutional neural network that is 50 layers deep. The pretrained=False argument ensures that the model is not loaded with pre-trained weights.\n",
        "# num_features line retrieves the number of input features of the last fully connected layer (fc) of the model.\n",
        "# model.fc replaces the last fully connected layer (fc) of the model with a new linear layer (nn.Linear) having num_features input features and 2 output features (mask vs. no mask).\n",
        "# Then these changes are laoded and evaluated\n",
        "\n",
        "    def load_model(self, model_path):\n",
        "        model = models.resnet50(weights=False)\n",
        "        num_features = model.fc.in_features   \n",
        "        model.fc = nn.Linear(num_features, 2) \n",
        "        model.load_state_dict(torch.load(model_path, map_location=self.device))\n",
        "        model.eval()\n",
        "        return model\n",
        "    \n",
        "# image frame is taken as input\n",
        "# It applies the defined image transformations and converts the frame to a tensor.\n",
        "# No gradient calculation is done to speed up computation\n",
        "# Probabilities are obtained from the softmax function\n",
        "# mask_probability retrieves the probability value corresponding to the \"Mask\" class \n",
        "# no_mask_probability retrieves the probability value corresponding to the \"No Mask\" class \n",
        "# Whatever probability is greater, it returns that label\n",
        "\n",
        "    def detect(self, frame):\n",
        "        frame = self.transform(frame).unsqueeze(0).to(self.device)\n",
        "        with torch.no_grad():\n",
        "            output = self.model(frame)\n",
        "        probabilities = torch.softmax(output, dim=1)[0]\n",
        "        mask_probability = probabilities[1].item()\n",
        "        no_mask_probability = probabilities[0].item()\n",
        "        label = \"Mask\" if mask_probability > no_mask_probability else \"No Mask\"\n",
        "        return label"
      ]
    },
    {
      "attachments": {},
      "cell_type": "markdown",
      "metadata": {},
      "source": [
        "The training directory paths\n"
      ]
    },
    {
      "cell_type": "code",
      "execution_count": 7,
      "metadata": {},
      "outputs": [],
      "source": [
        "train_data_dir = \"C:/Users/ragha/Desktop/Projects/Face-mask-detection/mask_images_ready/train\"\n",
        "val_data_dir = \"C:/Users/ragha/Desktop/Projects/Face-mask-detection/mask_images_ready/val\"\n",
        "test_data_dir = \"C:/Users/ragha/Desktop/Projects/Face-mask-detection/mask_images_ready/test\"\n",
        "model_save_path = \"C:/Users/ragha/Desktop/Projects/Face-mask-detection/Final_FaceMask_detection_model.pt\""
      ]
    },
    {
      "attachments": {},
      "cell_type": "markdown",
      "metadata": {},
      "source": [
        "Load the training data"
      ]
    },
    {
      "cell_type": "code",
      "execution_count": 8,
      "metadata": {
        "id": "jzCgrc3qBjbB"
      },
      "outputs": [],
      "source": [
        "train_image_paths = []\n",
        "train_labels = []\n",
        "\n",
        "for folder_name in os.listdir(train_data_dir):\n",
        "    folder_path = os.path.join(train_data_dir, folder_name)\n",
        "    if os.path.isdir(folder_path):\n",
        "        for file_name in os.listdir(folder_path):\n",
        "            if file_name.endswith(\".png\") or file_name.endswith(\".jpg\"): \n",
        "                file_path = os.path.join(folder_path, file_name)\n",
        "                train_image_paths.append(file_path)\n",
        "                train_labels.append(1 if folder_name == \"1\" else 0)\n"
      ]
    },
    {
      "attachments": {},
      "cell_type": "markdown",
      "metadata": {},
      "source": [
        "Load the validation data"
      ]
    },
    {
      "cell_type": "code",
      "execution_count": 9,
      "metadata": {
        "id": "gg5NWFP9Bldu"
      },
      "outputs": [],
      "source": [
        "val_image_paths = []\n",
        "val_labels = []\n",
        "\n",
        "\n",
        "for folder_name in os.listdir(val_data_dir):\n",
        "    folder_path = os.path.join(val_data_dir, folder_name)\n",
        "    if os.path.isdir(folder_path):\n",
        "        for file_name in os.listdir(folder_path):\n",
        "            if file_name.endswith(\".png\") or file_name.endswith(\".jpg\"):\n",
        "                file_path = os.path.join(folder_path, file_name)\n",
        "                val_image_paths.append(file_path)\n",
        "                val_labels.append(1 if folder_name == \"1\" else 0)\n"
      ]
    },
    {
      "attachments": {},
      "cell_type": "markdown",
      "metadata": {},
      "source": [
        "Load the test data"
      ]
    },
    {
      "cell_type": "code",
      "execution_count": 10,
      "metadata": {
        "id": "20jEDZs_BlI6"
      },
      "outputs": [],
      "source": [
        "test_image_paths = []\n",
        "test_labels = []\n",
        "\n",
        "for folder_name in os.listdir(test_data_dir):\n",
        "    folder_path = os.path.join(test_data_dir, folder_name)\n",
        "    if os.path.isdir(folder_path):\n",
        "        for file_name in os.listdir(folder_path):\n",
        "            if file_name.endswith(\".png\") or file_name.endswith(\".jpg\"):\n",
        "                file_path = os.path.join(folder_path, file_name)\n",
        "                test_image_paths.append(file_path)\n",
        "                test_labels.append(1 if folder_name == \"1\" else 0)"
      ]
    },
    {
      "attachments": {},
      "cell_type": "markdown",
      "metadata": {},
      "source": [
        "FaceMaskDataset class for training, validation, and test data"
      ]
    },
    {
      "cell_type": "code",
      "execution_count": 11,
      "metadata": {
        "id": "JLL6meijB0Fr"
      },
      "outputs": [],
      "source": [
        "train_dataset = FaceMaskDataset(train_image_paths, train_labels, transform=transforms.ToTensor())\n",
        "val_dataset = FaceMaskDataset(val_image_paths, val_labels, transform=transforms.ToTensor())\n",
        "test_dataset = FaceMaskDataset(test_image_paths, test_labels, transform=transforms.ToTensor())\n"
      ]
    },
    {
      "cell_type": "code",
      "execution_count": 12,
      "metadata": {},
      "outputs": [],
      "source": [
        "batch_size = 16\n",
        "num_epochs = 16"
      ]
    },
    {
      "attachments": {},
      "cell_type": "markdown",
      "metadata": {},
      "source": [
        "Training, validation, and test data loaders"
      ]
    },
    {
      "cell_type": "code",
      "execution_count": 13,
      "metadata": {
        "id": "NlObLVgUB1sk"
      },
      "outputs": [],
      "source": [
        "#  DataLoader is a class that provides an interface to efficiently load in mini batches and process data from a dataset. \n",
        "train_loader = DataLoader(train_dataset, batch_size=batch_size, shuffle=True)\n",
        "val_loader = DataLoader(val_dataset, batch_size=batch_size, shuffle=False)\n",
        "test_loader = DataLoader(test_dataset, batch_size=batch_size, shuffle=False)"
      ]
    },
    {
      "attachments": {},
      "cell_type": "markdown",
      "metadata": {},
      "source": [
        "FaceMaskModel class"
      ]
    },
    {
      "cell_type": "code",
      "execution_count": 14,
      "metadata": {
        "colab": {
          "base_uri": "https://localhost:8080/"
        },
        "id": "GLjJ5QJWB8Td",
        "outputId": "71f20b76-c900-4c72-c768-c3de7ddeb0c8"
      },
      "outputs": [
        {
          "name": "stderr",
          "output_type": "stream",
          "text": [
            "c:\\Users\\ragha\\AppData\\Local\\Programs\\Python\\Python311\\Lib\\site-packages\\torchvision\\models\\_utils.py:223: UserWarning: Arguments other than a weight enum or `None` for 'weights' are deprecated since 0.13 and may be removed in the future. The current behavior is equivalent to passing `weights=ResNet50_Weights.IMAGENET1K_V1`. You can also use `weights=ResNet50_Weights.DEFAULT` to get the most up-to-date weights.\n",
            "  warnings.warn(msg)\n"
          ]
        }
      ],
      "source": [
        "# FaceMaskModel class in herits a Neural Network module\n",
        "# Here the model creates an instance of the ResNet-50 model and uses the pretrained weights on the ImageNet dataset\n",
        "# Here also we replace the last fully connected layer (fc) of the model with a new linear layer (nn.Linear) having num_features input features and 2 output features (mask vs. no mask).\n",
        "\n",
        "class FaceMaskModel(nn.Module):\n",
        "    def __init__(self):\n",
        "        super(FaceMaskModel, self).__init__()\n",
        "        self.model = models.resnet50(weights=True)\n",
        "        num_features = self.model.fc.in_features\n",
        "        self.model.fc = nn.Linear(num_features, 2)\n",
        "\n",
        "    def forward(self, x):\n",
        "        return self.model(x)\n",
        "\n",
        "# FaceMaskModel class\n",
        "model = FaceMaskModel()"
      ]
    },
    {
      "attachments": {},
      "cell_type": "markdown",
      "metadata": {},
      "source": [
        "The loss function, optimizer, and learning rate scheduler"
      ]
    },
    {
      "cell_type": "code",
      "execution_count": 15,
      "metadata": {
        "id": "j1tvcCZ7CIlC"
      },
      "outputs": [],
      "source": [
        "# Cross-Entropy loss is a most important cost function. It is used to optimize classification models (Not only Binary). Score/loss is calculated that penalizes the probability based on how far it is from the actual expected value. The penalty is logarithmic in nature.\n",
        "criterion = nn.CrossEntropyLoss()\n",
        "\n",
        "# Adam optimization is a extension stochastic gradient descent method. It is more successful in finding Global Minimas compared to other gradient descent methods. The optimizer is responsible for updating the model's parameters during training based on the calculated gradients. It takes as input the model's parameters. lr -> Learning Rate\n",
        "optimizer = optim.Adam(model.parameters(), lr=0.001)\n",
        "\n",
        "# The scheduler adjusts the learning rate during training to improve convergence and performance. In this case, it applies a step-wise decay to the learning rate. In this case after every 3 epochs, the learning rate is multiplied by 0.1, reducing it by a factor of 10.\n",
        "scheduler = optim.lr_scheduler.StepLR(optimizer, step_size=3, gamma=0.1)\n",
        "\n",
        "\n",
        "# This line moves the model to the specified device - GPU or CPU\n",
        "model = model.to(device)"
      ]
    },
    {
      "attachments": {},
      "cell_type": "markdown",
      "metadata": {},
      "source": [
        "Training the Model"
      ]
    },
    {
      "cell_type": "code",
      "execution_count": 16,
      "metadata": {
        "colab": {
          "base_uri": "https://localhost:8080/",
          "height": 1000
        },
        "id": "08DxA2T2CIOs",
        "outputId": "309a3aaf-0e06-4e5b-ccc9-66928cf12c36",
        "scrolled": true
      },
      "outputs": [
        {
          "name": "stdout",
          "output_type": "stream",
          "text": [
            "Epoch 1/16\n",
            "Train Loss: 0.3676 | Train Accuracy: 85.80%\n",
            "Val Loss: 0.3634 | Val Accuracy: 92.06%\n",
            "-------------------------------\n",
            "Epoch 2/16\n",
            "Train Loss: 0.2479 | Train Accuracy: 90.74%\n",
            "Val Loss: 6.9154 | Val Accuracy: 63.49%\n",
            "-------------------------------\n",
            "Epoch 3/16\n",
            "Train Loss: 0.2476 | Train Accuracy: 90.43%\n",
            "Val Loss: 0.2252 | Val Accuracy: 95.24%\n",
            "-------------------------------\n",
            "Epoch 4/16\n",
            "Train Loss: 0.1306 | Train Accuracy: 95.68%\n",
            "Val Loss: 0.0805 | Val Accuracy: 96.83%\n",
            "-------------------------------\n",
            "Epoch 5/16\n",
            "Train Loss: 0.0650 | Train Accuracy: 97.53%\n",
            "Val Loss: 0.1003 | Val Accuracy: 95.24%\n",
            "-------------------------------\n",
            "Epoch 6/16\n",
            "Train Loss: 0.1718 | Train Accuracy: 92.59%\n",
            "Val Loss: 0.3096 | Val Accuracy: 90.48%\n",
            "-------------------------------\n",
            "Epoch 7/16\n",
            "Train Loss: 0.2289 | Train Accuracy: 95.06%\n",
            "Val Loss: 0.1301 | Val Accuracy: 98.41%\n",
            "-------------------------------\n",
            "Epoch 8/16\n",
            "Train Loss: 0.0876 | Train Accuracy: 97.22%\n",
            "Val Loss: 0.3014 | Val Accuracy: 87.30%\n",
            "-------------------------------\n",
            "Epoch 9/16\n",
            "Train Loss: 0.1995 | Train Accuracy: 93.83%\n",
            "Val Loss: 0.5114 | Val Accuracy: 88.89%\n",
            "-------------------------------\n",
            "Epoch 10/16\n",
            "Train Loss: 0.0596 | Train Accuracy: 99.07%\n",
            "Val Loss: 0.2900 | Val Accuracy: 92.06%\n",
            "-------------------------------\n",
            "Epoch 11/16\n",
            "Train Loss: 0.0254 | Train Accuracy: 99.38%\n",
            "Val Loss: 0.1801 | Val Accuracy: 95.24%\n",
            "-------------------------------\n",
            "Epoch 12/16\n",
            "Train Loss: 0.0091 | Train Accuracy: 100.00%\n",
            "Val Loss: 0.3657 | Val Accuracy: 93.65%\n",
            "-------------------------------\n",
            "Epoch 13/16\n",
            "Train Loss: 0.1129 | Train Accuracy: 96.91%\n",
            "Val Loss: 0.4977 | Val Accuracy: 93.65%\n",
            "-------------------------------\n",
            "Epoch 14/16\n",
            "Train Loss: 0.1138 | Train Accuracy: 97.84%\n",
            "Val Loss: 1.0976 | Val Accuracy: 93.65%\n",
            "-------------------------------\n",
            "Epoch 15/16\n",
            "Train Loss: 0.1538 | Train Accuracy: 94.14%\n",
            "Val Loss: 0.3669 | Val Accuracy: 88.89%\n",
            "-------------------------------\n",
            "Epoch 16/16\n",
            "Train Loss: 0.0877 | Train Accuracy: 97.22%\n",
            "Val Loss: 0.1511 | Val Accuracy: 96.83%\n",
            "-------------------------------\n"
          ]
        }
      ],
      "source": [
        "# list to save the train loss and accuracy for plotting\n",
        "train_loss_values = []\n",
        "train_accuracy_values = []\n",
        "\n",
        "# Train the model\n",
        "for epoch in range(num_epochs):\n",
        "    model.train()\n",
        "    running_loss = 0.0\n",
        "    correct = 0\n",
        "    total = 0\n",
        "\n",
        "    for images, labels in train_loader:\n",
        "        images = images.to(device)\n",
        "        labels = labels.to(device)\n",
        "\n",
        "        optimizer.zero_grad()\n",
        "        outputs = model(images)\n",
        "        loss = criterion(outputs, labels)\n",
        "        loss.backward()\n",
        "        optimizer.step()\n",
        "\n",
        "        _, predicted = torch.max(outputs.data, 1)\n",
        "        total += labels.size(0)\n",
        "        correct += (predicted == labels).sum().item()\n",
        "        running_loss += loss.item()\n",
        "\n",
        "\n",
        "    train_accuracy = correct / total\n",
        "    train_loss = running_loss / len(train_loader)\n",
        "\n",
        "    train_loss_values.append(train_loss)  # Append train loss value to the list\n",
        "    train_accuracy_values.append(train_accuracy)  # Append train accuracy value to the list\n",
        "\n",
        "    # Model evaluation on the validation data\n",
        "    model.eval()\n",
        "    val_loss = 0.0\n",
        "    val_correct = 0\n",
        "    val_total = 0\n",
        "\n",
        "    with torch.no_grad(): \n",
        "        for images, labels in val_loader:\n",
        "            images = images.to(device)\n",
        "            labels = labels.to(device)\n",
        "\n",
        "            outputs = model(images)\n",
        "            loss = criterion(outputs, labels)\n",
        "\n",
        "            _, predicted = torch.max(outputs.data, 1)\n",
        "            val_total += labels.size(0)\n",
        "            val_correct += (predicted == labels).sum().item()\n",
        "            val_loss += loss.item()\n",
        "\n",
        "    val_accuracy = val_correct / val_total\n",
        "    val_loss = val_loss / len(val_loader)\n",
        "\n",
        "\n",
        "    print(f\"Epoch {epoch + 1}/{num_epochs}\")\n",
        "    print(f\"Train Loss: {train_loss:.4f} | Train Accuracy: {train_accuracy*100:.2f}%\")\n",
        "    print(f\"Val Loss: {val_loss:.4f} | Val Accuracy: {val_accuracy*100:.2f}%\")\n",
        "    print(\"-------------------------------\")"
      ]
    },
    {
      "attachments": {},
      "cell_type": "markdown",
      "metadata": {},
      "source": [
        "Plotting train loss and accuracy"
      ]
    },
    {
      "cell_type": "code",
      "execution_count": 17,
      "metadata": {},
      "outputs": [
        {
          "data": {
            "image/png": "[encoded data removed]",
            "text/plain": [
              "<Figure size 1000x400 with 2 Axes>"
            ]
          },
          "metadata": {},
          "output_type": "display_data"
        }
      ],
      "source": [
        "# list of epoch numbers\n",
        "epochs = list(range(1, num_epochs + 1))\n",
        "\n",
        "plt.figure(figsize=(10, 4))\n",
        "\n",
        "# Plot train loss\n",
        "plt.subplot(1, 2, 1)\n",
        "plt.plot(epochs, train_loss_values, label='Train Loss', color = \"red\")\n",
        "plt.xlabel('Epoch')\n",
        "plt.ylabel('Loss')\n",
        "plt.title('Training Loss')\n",
        "plt.legend()\n",
        "# plt.show()\n",
        "\n",
        "# Plot train accuracy\n",
        "plt.subplot(1, 2, 2)\n",
        "plt.plot(epochs, train_accuracy_values, label='Train Accuracy', color=\"blue\")\n",
        "plt.xlabel('Epoch')\n",
        "plt.ylabel('Accuracy')\n",
        "plt.title('Training Accuracy')\n",
        "plt.legend()\n",
        "# plt.show()\n",
        "\n",
        "plt.tight_layout()\n",
        "plt.show()"
      ]
    },
    {
      "attachments": {},
      "cell_type": "markdown",
      "metadata": {},
      "source": [
        "Save the trained model"
      ]
    },
    {
      "cell_type": "code",
      "execution_count": 18,
      "metadata": {
        "colab": {
          "base_uri": "https://localhost:8080/"
        },
        "id": "lmGBnKUACIDy",
        "outputId": "2de31e74-70ae-4c13-b3d6-ee80fd65946c"
      },
      "outputs": [
        {
          "name": "stdout",
          "output_type": "stream",
          "text": [
            "Test Loss: 0.0501 | Test Accuracy: 96.92%\n"
          ]
        }
      ],
      "source": [
        "torch.save(model.state_dict(), model_save_path)\n",
        "\n",
        "# Model evaluation on test data\n",
        "model.eval()\n",
        "test_loss = 0.0\n",
        "test_correct = 0\n",
        "test_total = 0\n",
        "\n",
        "with torch.no_grad():\n",
        "    for images, labels in test_loader:\n",
        "        images = images.to(device)\n",
        "        labels = labels.to(device)\n",
        "\n",
        "        outputs = model(images)\n",
        "        loss = criterion(outputs, labels)\n",
        "\n",
        "        _, predicted = torch.max(outputs.data, 1)\n",
        "        test_total += labels.size(0)\n",
        "        test_correct += (predicted == labels).sum().item()\n",
        "        test_loss += loss.item()\n",
        "\n",
        "test_accuracy = test_correct / test_total\n",
        "test_loss = test_loss / len(test_loader)\n",
        "\n",
        "print(f\"Test Loss: {test_loss:.4f} | Test Accuracy: {test_accuracy*100:.2f}%\")\n",
        "\n",
        "# save the model one more time after checking good accuracy\n",
        "torch.save(model.state_dict(), model_save_path)"
      ]
    }
  ],
  "metadata": {
    "accelerator": "GPU",
    "colab": {
      "gpuType": "T4",
      "include_colab_link": true,
      "provenance": []
    },
    "gpuClass": "standard",
    "kernelspec": {
      "display_name": "Python 3 (ipykernel)",
      "language": "python",
      "name": "python3"
    },
    "language_info": {
      "codemirror_mode": {
        "name": "ipython",
        "version": 3
      },
      "file_extension": ".py",
      "mimetype": "text/x-python",
      "name": "python",
      "nbconvert_exporter": "python",
      "pygments_lexer": "ipython3",
      "version": "3.11.1"
    }
  },
  "nbformat": 4,
  "nbformat_minor": 0
}
